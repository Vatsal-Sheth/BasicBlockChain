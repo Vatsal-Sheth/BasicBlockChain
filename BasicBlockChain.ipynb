{
  "nbformat": 4,
  "nbformat_minor": 0,
  "metadata": {
    "colab": {
      "name": "BasicBlockChain.ipynb",
      "provenance": []
    },
    "kernelspec": {
      "name": "python3",
      "display_name": "Python 3"
    },
    "language_info": {
      "name": "python"
    }
  },
  "cells": [
    {
      "cell_type": "code",
      "execution_count": 1,
      "metadata": {
        "id": "wVdb6hY7WnmN"
      },
      "outputs": [],
      "source": [
        "from hashlib import sha256"
      ]
    },
    {
      "cell_type": "code",
      "source": [
        "import json"
      ],
      "metadata": {
        "id": "eYJCKCpDWvSq"
      },
      "execution_count": 2,
      "outputs": []
    },
    {
      "cell_type": "code",
      "source": [
        "import time"
      ],
      "metadata": {
        "id": "bt4CKjmgWxxv"
      },
      "execution_count": 3,
      "outputs": []
    },
    {
      "cell_type": "code",
      "source": [
        "class Chain:\n",
        "\n",
        "    def __init__(self):\n",
        "\n",
        "        self.blockchain = []\n",
        "\n",
        "        self.pending = []\n",
        "\n",
        "        self.add_block(prevhash=\"Genesis\", proof=123)\n",
        "\n",
        "    def add_transaction(self, sender, recipient, amount):\n",
        "\n",
        "        transaction = {\n",
        "\n",
        "            \"sender\": sender,\n",
        "\n",
        "            \"recipient\": recipient,\n",
        "\n",
        "            \"amount\": amount\n",
        "\n",
        "        }\n",
        "\n",
        "        self.pending.append(transaction)\n",
        "\n",
        "    def compute_hash(self, block):\n",
        "\n",
        "        json_block = json.dumps(block, sort_keys=True).encode()\n",
        "\n",
        "        curhash = sha256(json_block).hexdigest()\n",
        "\n",
        "        return curhash\n",
        "\n",
        "    def add_block(self, proof, prevhash=None):\n",
        "\n",
        "        block = {\n",
        "\n",
        "            \"index\": len(self.blockchain),\n",
        "\n",
        "            \"timestamp\": time.time(),\n",
        "\n",
        "            \"transactions\": self.pending,\n",
        "\n",
        "            \"proof\": proof,\n",
        "\n",
        "            \"prevhash\": prevhash or self.compute_hash(self.blockchain[-1])\n",
        "\n",
        "        }\n",
        "\n",
        "        self.pending = []\n",
        "\n",
        "        self.blockchain.append(block)\n"
      ],
      "metadata": {
        "id": "R4_wekMdW0gO"
      },
      "execution_count": 4,
      "outputs": []
    },
    {
      "cell_type": "code",
      "source": [
        "chain = Chain()\n",
        "\n",
        "t1 = chain.add_transaction(\"A\", \"B\", 64)\n",
        "\n",
        "t2 = chain.add_transaction(\"B\", \"C\", 100)\n",
        "\n",
        "t3 = chain.add_transaction(\"C\", \"A\", 24)\n",
        "\n",
        "chain.add_block(12345)\n",
        "\n",
        "t4 = chain.add_transaction(\"X\", \"Y\", 75)\n",
        "\n",
        "t5 = chain.add_transaction(\"Y\", \"Z\", 30)\n",
        "\n",
        "t6 = chain.add_transaction(\"Z\", \"X\", 8)\n",
        "\n",
        "chain.add_block(6789)\n",
        "\n",
        "print(chain.blockchain)"
      ],
      "metadata": {
        "colab": {
          "base_uri": "https://localhost:8080/"
        },
        "id": "8_LdztoNW3v8",
        "outputId": "b4a91bc7-195c-4cbd-9587-778eac49fd23"
      },
      "execution_count": 5,
      "outputs": [
        {
          "output_type": "stream",
          "name": "stdout",
          "text": [
            "[{'index': 0, 'timestamp': 1656238678.6959717, 'transactions': [], 'proof': 123, 'prevhash': 'Genesis'}, {'index': 1, 'timestamp': 1656238678.6960707, 'transactions': [{'sender': 'A', 'recipient': 'B', 'amount': 64}, {'sender': 'B', 'recipient': 'C', 'amount': 100}, {'sender': 'C', 'recipient': 'A', 'amount': 24}], 'proof': 12345, 'prevhash': '37083492717eb7c1f4a5b108158762d52966cbaa841c8ba2aa039313a7c8c11d'}, {'index': 2, 'timestamp': 1656238678.696206, 'transactions': [{'sender': 'X', 'recipient': 'Y', 'amount': 75}, {'sender': 'Y', 'recipient': 'Z', 'amount': 30}, {'sender': 'Z', 'recipient': 'X', 'amount': 8}], 'proof': 6789, 'prevhash': '12e5de2c427a9fc2b6aa9b78137233836e3a24adb5b0958311c306d2de3c5123'}]\n"
          ]
        }
      ]
    },
    {
      "cell_type": "code",
      "source": [
        ""
      ],
      "metadata": {
        "id": "dHgt9AhRXWig"
      },
      "execution_count": null,
      "outputs": []
    }
  ]
}